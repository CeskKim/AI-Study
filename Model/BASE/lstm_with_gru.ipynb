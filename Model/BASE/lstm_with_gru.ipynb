{
  "nbformat": 4,
  "nbformat_minor": 0,
  "metadata": {
    "colab": {
      "private_outputs": true,
      "provenance": [],
      "authorship_tag": "ABX9TyON3HGI9j+02rNlGu7c+bST",
      "include_colab_link": true
    },
    "kernelspec": {
      "name": "python3",
      "display_name": "Python 3"
    },
    "language_info": {
      "name": "python"
    },
    "accelerator": "GPU",
    "gpuClass": "standard"
  },
  "cells": [
    {
      "cell_type": "markdown",
      "metadata": {
        "id": "view-in-github",
        "colab_type": "text"
      },
      "source": [
        "<a href=\"https://colab.research.google.com/github/CeskKim/AI-Study/blob/main/Model/BASE/lstm_with_gru.ipynb\" target=\"_parent\"><img src=\"https://colab.research.google.com/assets/colab-badge.svg\" alt=\"Open In Colab\"/></a>"
      ]
    },
    {
      "cell_type": "code",
      "execution_count": null,
      "metadata": {
        "id": "NKxvhMCxcDly"
      },
      "outputs": [],
      "source": [
        "print('hi')"
      ]
    },
    {
      "cell_type": "code",
      "source": [],
      "metadata": {
        "id": "PMbAB6Txdivt"
      },
      "execution_count": null,
      "outputs": []
    }
  ]
}